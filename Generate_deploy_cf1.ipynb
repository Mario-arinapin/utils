{
  "nbformat": 4,
  "nbformat_minor": 0,
  "metadata": {
    "colab": {
      "provenance": [],
      "collapsed_sections": [],
      "authorship_tag": "ABX9TyNl8+k6S1YQ92h36tqy9lMP",
      "include_colab_link": true
    },
    "kernelspec": {
      "name": "python3",
      "display_name": "Python 3"
    },
    "language_info": {
      "name": "python"
    }
  },
  "cells": [
    {
      "cell_type": "markdown",
      "metadata": {
        "id": "view-in-github",
        "colab_type": "text"
      },
      "source": [
        "<a href=\"https://colab.research.google.com/github/Mario-arinapin/utils/blob/main/Generate_deploy_cf1.ipynb\" target=\"_parent\"><img src=\"https://colab.research.google.com/assets/colab-badge.svg\" alt=\"Open In Colab\"/></a>"
      ]
    },
    {
      "cell_type": "code",
      "execution_count": null,
      "metadata": {
        "colab": {
          "base_uri": "https://localhost:8080/",
          "height": 132
        },
        "outputId": "a612a5e6-a5b1-4363-f8af-25be363fb67a",
        "id": "9NoGSiCjqSNE"
      },
      "outputs": [
        {
          "output_type": "error",
          "ename": "SyntaxError",
          "evalue": "ignored",
          "traceback": [
            "\u001b[0;36m  File \u001b[0;32m\"<ipython-input-1-b3ab7f27a8e3>\"\u001b[0;36m, line \u001b[0;32m9\u001b[0m\n\u001b[0;31m    ] {allow-input: true}\u001b[0m\n\u001b[0m    ^\u001b[0m\n\u001b[0;31mSyntaxError\u001b[0m\u001b[0;31m:\u001b[0m invalid syntax\n"
          ]
        }
      ],
      "source": [
        "#@title Google cloud deploy cli generation. \n",
        "\n",
        "YOUR_FUNCTION_NAME = 'peso' #@param {type:\"string\"}\n",
        "region = 'europe-west3' #@param [\"europe-west3\", \"2nd option\", \"3rd option\"] {allow-input: true}\n",
        "runtime = 'python39' #@param [\"python310\", \"python39\", \"nodejs16\"] {allow-input: true}\n",
        "file_path = '' #@param {type:\"string\"}\n",
        "entry_point = 'hello_firestore' #@param [\"hello_firestore\", \"hello_gcs\"] {allow-input: true}\n",
        "trigger_event = '--trigger-http' #@param [\"--trigger-http\", \"--trigger-topic\", \"--trigger-bucket\",\"trigger-event\" ] {allow-input: true}\n",
        "gengsc = False #@param [\"False\", \"True\"] \n",
        "\n",
        "if trigger_event== \"trigger_event\":\n",
        "  trigger_resource = '' #@param {type:\"string\"}\n",
        "else:\n",
        "  print(\"tbd\") \n",
        "\n",
        "\n",
        "if gengsc==True:\n",
        "  test2= f'gcloud functions deploy {YOUR_FUNCTION_NAME} \\\n",
        "  [--gen2] \\\n",
        "  --region={region} \\\n",
        "  --runtime={runtime} \\\n",
        "  --source={file_path} \\\n",
        "  --entry-point={entry_point} \\\n",
        "  --trigger-event {trigger_event} \\\n",
        "  --trigger-resource {trigger_resource}'\n",
        "\n",
        "else:\n",
        "  test2= f'gcloud functions deploy {YOUR_FUNCTION_NAME} \\\n",
        "  --region={region} \\\n",
        "  --runtime={runtime} \\\n",
        "  --source={file_path} \\\n",
        "  --entry-point={entry_point} \\\n",
        "  --trigger-event {trigger_event} \\\n",
        "  --trigger-resource {trigger_resource}'\n",
        "\n",
        "print(\"The code is: \\n\")\n",
        "print(test2)\n"
      ]
    }
  ]
}